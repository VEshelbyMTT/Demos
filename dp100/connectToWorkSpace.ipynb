{
  "cells": [
    {
      "cell_type": "markdown",
      "metadata": {
        "nteract": {
          "transient": {
            "deleting": false
          }
        }
      },
      "source": [
        "# Introduction to azure.ai.ml:\n",
        "azure.ai.ml <- this is version 2 of the SDK\n",
        "\n",
        "# Connect to the workspace\n",
        "\n",
        "## Prerequisite #1 : your info\n",
        "\n",
        "in V2, you use the MLClient to connect to your workspace. This can be found in two places: \n",
        "\n",
        "1. The azure portal when you look at the overview in the [AML resource](https://portal.azure.com/#@MngEnv319812.onmicrosoft.com/resource/subscriptions/40fd749f-c876-4e1e-87c0-835314a59e42/resourceGroups/dp100-main-demo/providers/Microsoft.MachineLearningServices/workspaces/training-ml104/overview). \n",
        "\n",
        "2. The top right corner of the AML directory\n",
        "\n",
        "From this link, you can extract:\n",
        "- subscripton Id\n",
        "- resource group\n",
        "- workspace\n",
        "\n",
        "## Prerequisite #2: your permissions/credentials\n",
        "\n",
        "We are using [DefaultAzureCredential](https://learn.microsoft.com/en-us/python/api/azure-identity/azure.identity.defaultazurecredential?view=azure-python) to get access to workspace.\n",
        "\n",
        "DefaultAzureCredential should be capable of handling most Azure SDK authentication scenarios. Reference [here](https://learn.microsoft.com/en-us/python/api/azure-identity/azure.identity?view=azure-python) for all available credentials if it does not work for you.\n",
        "\n"
      ]
    },
    {
      "cell_type": "code",
      "execution_count": null,
      "metadata": {
        "jupyter": {
          "outputs_hidden": false,
          "source_hidden": false
        },
        "nteract": {
          "transient": {
            "deleting": false
          }
        }
      },
      "outputs": [],
      "source": [
        "client_config = {\n",
        "        \"resource_group\": \"\",#Place resource group here,\n",
        "        \"subscription_id\":\"\", #Place subscription ID here,\n",
        "        \"workspace_name\": \"\", #Place AML workspace name here,\n",
        "    }"
      ]
    },
    {
      "cell_type": "code",
      "execution_count": 7,
      "metadata": {
        "gather": {
          "logged": 1672651405832
        },
        "jupyter": {
          "outputs_hidden": false,
          "source_hidden": false
        },
        "nteract": {
          "transient": {
            "deleting": false
          }
        }
      },
      "outputs": [],
      "source": [
        "from azure.ai.ml import MLClient\n",
        "from azure.identity import DefaultAzureCredential\n",
        "\n",
        "# enter details of your AML workspace\n",
        "\n",
        "\n",
        "# get a handle to the workspace you can also just call the variable mlclient\n",
        "ws = MLClient(\n",
        "    credential = DefaultAzureCredential(), \n",
        "    resource_group_name= client_config[\"resource_group\"], #resource_group\n",
        "    subscription_id= client_config[\"subscription_id\"], #AML subscription id\n",
        "    workspace_name= client_config[\"workspace_name\"] # workspace\n",
        ")\n",
        "\n"
      ]
    },
    {
      "cell_type": "code",
      "execution_count": 1,
      "metadata": {
        "gather": {
          "logged": 1672651007598
        },
        "jupyter": {
          "outputs_hidden": false,
          "source_hidden": false
        },
        "nteract": {
          "transient": {
            "deleting": false
          }
        }
      },
      "outputs": [
        {
          "ename": "NameError",
          "evalue": "name 'ws' is not defined",
          "output_type": "error",
          "traceback": [
            "\u001b[1;31m---------------------------------------------------------------------------\u001b[0m",
            "\u001b[1;31mNameError\u001b[0m                                 Traceback (most recent call last)",
            "\u001b[1;32m~\\AppData\\Local\\Temp/ipykernel_20552/2447669684.py\u001b[0m in \u001b[0;36m<module>\u001b[1;34m\u001b[0m\n\u001b[1;32m----> 1\u001b[1;33m \u001b[1;32mfor\u001b[0m \u001b[0mws\u001b[0m \u001b[1;32min\u001b[0m \u001b[0mws\u001b[0m\u001b[1;33m.\u001b[0m\u001b[0mworkspaces\u001b[0m\u001b[1;33m.\u001b[0m\u001b[0mlist\u001b[0m\u001b[1;33m(\u001b[0m\u001b[1;33m)\u001b[0m\u001b[1;33m:\u001b[0m\u001b[1;33m\u001b[0m\u001b[1;33m\u001b[0m\u001b[0m\n\u001b[0m\u001b[0;32m      2\u001b[0m     \u001b[0mprint\u001b[0m\u001b[1;33m(\u001b[0m\u001b[0mws\u001b[0m\u001b[1;33m)\u001b[0m\u001b[1;33m\u001b[0m\u001b[1;33m\u001b[0m\u001b[0m\n",
            "\u001b[1;31mNameError\u001b[0m: name 'ws' is not defined"
          ]
        }
      ],
      "source": [
        "for ws in ws.workspaces.list():\n",
        "    print(ws)"
      ]
    },
    {
      "cell_type": "markdown",
      "metadata": {
        "nteract": {
          "transient": {
            "deleting": false
          }
        }
      },
      "source": [
        "# What does my MLClient(ws) grant me access to do (via code):\n",
        "\n",
        "1. Run Standalone Jobs - run a discrete ML activity as Job. This job can be run locally or on the cloud. Types of jobs, we can organise using the sdk:\n",
        "- Command - run a command (Python, R, Windows Command, Linux Shell etc.)\n",
        "- Sweep - run a hyperparameter sweep on your Command\n",
        "\n",
        "2. Run multiple jobs using our improved Pipelines\n",
        "- Run a series of commands stitched into a pipeline\n",
        "- Components - run pipelines using reusable components\n",
        "\n",
        "3. Making predictions/inferencing at batch/ singular\n",
        "\n",
        "4. **Manage AML resources and assets – workspace, compute, datastores, datasets, environments, models **\n",
        "\n",
        "\n",
        "[documentation](https://learn.microsoft.com/en-us/python/api/overview/azure/ai-ml-readme?view=azure-python)"
      ]
    },
    {
      "cell_type": "markdown",
      "metadata": {
        "nteract": {
          "transient": {
            "deleting": false
          }
        }
      },
      "source": [
        "# What does the MLClient have to help me inside of my workspace\n",
        "\n",
        "begin_create_or_update: Creates or updates an Azure ML resource asynchronously.\n",
        "\n",
        "create_or_update: Creates or updates an Azure ML resource.\n",
        "\n",
        "from_config: \n",
        "- Return a workspace object from an existing Azure Machine Learning Workspace.\n",
        "\n",
        "- Reads workspace configuration from a file. Throws an exception if the config file can't be found.\n",
        "\n",
        "- The method provides a simple way to reuse the same workspace across multiple Python notebooks or projects. Users can save the workspace Azure Resource Manager (ARM) properties using the workspace.write_config method, and use this method to load the same workspace in different Python notebooks or projects without retyping the workspace ARM properties."
      ]
    },
    {
      "cell_type": "code",
      "execution_count": 4,
      "metadata": {
        "gather": {
          "logged": 1672651409412
        },
        "jupyter": {
          "outputs_hidden": false,
          "source_hidden": false
        },
        "nteract": {
          "transient": {
            "deleting": false
          }
        }
      },
      "outputs": [
        {
          "ename": "NameError",
          "evalue": "name 'client_config' is not defined",
          "output_type": "error",
          "traceback": [
            "\u001b[1;31m---------------------------------------------------------------------------\u001b[0m",
            "\u001b[1;31mNameError\u001b[0m                                 Traceback (most recent call last)",
            "\u001b[1;32m~\\AppData\\Local\\Temp/ipykernel_20552/3436676672.py\u001b[0m in \u001b[0;36m<module>\u001b[1;34m\u001b[0m\n\u001b[0;32m      3\u001b[0m \u001b[1;32mtry\u001b[0m\u001b[1;33m:\u001b[0m\u001b[1;33m\u001b[0m\u001b[1;33m\u001b[0m\u001b[0m\n\u001b[1;32m----> 4\u001b[1;33m     \u001b[0mws\u001b[0m \u001b[1;33m=\u001b[0m \u001b[0mMLClient\u001b[0m\u001b[1;33m.\u001b[0m\u001b[0mfrom_config\u001b[0m\u001b[1;33m(\u001b[0m\u001b[0mcredential\u001b[0m\u001b[1;33m=\u001b[0m\u001b[0mDefaultAzureCredential\u001b[0m\u001b[1;33m(\u001b[0m\u001b[1;33m)\u001b[0m\u001b[1;33m)\u001b[0m\u001b[1;33m\u001b[0m\u001b[1;33m\u001b[0m\u001b[0m\n\u001b[0m\u001b[0;32m      5\u001b[0m \u001b[1;32mexcept\u001b[0m \u001b[0mException\u001b[0m \u001b[1;32mas\u001b[0m \u001b[0mex\u001b[0m\u001b[1;33m:\u001b[0m\u001b[1;33m\u001b[0m\u001b[1;33m\u001b[0m\u001b[0m\n",
            "\u001b[1;31mNameError\u001b[0m: name 'MLClient' is not defined",
            "\nDuring handling of the above exception, another exception occurred:\n",
            "\u001b[1;31mNameError\u001b[0m                                 Traceback (most recent call last)",
            "\u001b[1;32m~\\AppData\\Local\\Temp/ipykernel_20552/3436676672.py\u001b[0m in \u001b[0;36m<module>\u001b[1;34m\u001b[0m\n\u001b[0;32m     10\u001b[0m     \u001b[0mos\u001b[0m\u001b[1;33m.\u001b[0m\u001b[0mmakedirs\u001b[0m\u001b[1;33m(\u001b[0m\u001b[0mos\u001b[0m\u001b[1;33m.\u001b[0m\u001b[0mpath\u001b[0m\u001b[1;33m.\u001b[0m\u001b[0mdirname\u001b[0m\u001b[1;33m(\u001b[0m\u001b[0mconfig_path\u001b[0m\u001b[1;33m)\u001b[0m\u001b[1;33m,\u001b[0m \u001b[0mexist_ok\u001b[0m\u001b[1;33m=\u001b[0m\u001b[1;32mTrue\u001b[0m\u001b[1;33m)\u001b[0m\u001b[1;33m\u001b[0m\u001b[1;33m\u001b[0m\u001b[0m\n\u001b[0;32m     11\u001b[0m     \u001b[1;32mwith\u001b[0m \u001b[0mopen\u001b[0m\u001b[1;33m(\u001b[0m\u001b[0mconfig_path\u001b[0m\u001b[1;33m,\u001b[0m \u001b[1;34m\"w\"\u001b[0m\u001b[1;33m)\u001b[0m \u001b[1;32mas\u001b[0m \u001b[0mfo\u001b[0m\u001b[1;33m:\u001b[0m\u001b[1;33m\u001b[0m\u001b[1;33m\u001b[0m\u001b[0m\n\u001b[1;32m---> 12\u001b[1;33m         \u001b[0mfo\u001b[0m\u001b[1;33m.\u001b[0m\u001b[0mwrite\u001b[0m\u001b[1;33m(\u001b[0m\u001b[0mjson\u001b[0m\u001b[1;33m.\u001b[0m\u001b[0mdumps\u001b[0m\u001b[1;33m(\u001b[0m\u001b[0mclient_config\u001b[0m\u001b[1;33m)\u001b[0m\u001b[1;33m)\u001b[0m\u001b[1;33m\u001b[0m\u001b[1;33m\u001b[0m\u001b[0m\n\u001b[0m\u001b[0;32m     13\u001b[0m     \u001b[0mws\u001b[0m \u001b[1;33m=\u001b[0m \u001b[0mMLClient\u001b[0m\u001b[1;33m.\u001b[0m\u001b[0mfrom_config\u001b[0m\u001b[1;33m(\u001b[0m\u001b[0mcredential\u001b[0m\u001b[1;33m=\u001b[0m\u001b[0mDefaultAzureCredential\u001b[0m\u001b[1;33m(\u001b[0m\u001b[1;33m)\u001b[0m\u001b[1;33m,\u001b[0m \u001b[0mpath\u001b[0m\u001b[1;33m=\u001b[0m\u001b[0mconfig_path\u001b[0m\u001b[1;33m)\u001b[0m\u001b[1;33m\u001b[0m\u001b[1;33m\u001b[0m\u001b[0m\n\u001b[0;32m     14\u001b[0m \u001b[0mprint\u001b[0m\u001b[1;33m(\u001b[0m\u001b[0mws\u001b[0m\u001b[1;33m)\u001b[0m\u001b[1;33m\u001b[0m\u001b[1;33m\u001b[0m\u001b[0m\n",
            "\u001b[1;31mNameError\u001b[0m: name 'client_config' is not defined"
          ]
        }
      ],
      "source": [
        "# Example of retrieving from_config\n",
        "\n",
        "try:\n",
        "    ws = MLClient.from_config(credential=DefaultAzureCredential())\n",
        "except Exception as ex:\n",
        "    # write and reload from config file\n",
        "    import json, os\n",
        "\n",
        "    config_path = \"../.azureml/config.json\"\n",
        "    os.makedirs(os.path.dirname(config_path), exist_ok=True)\n",
        "    with open(config_path, \"w\") as fo:\n",
        "        fo.write(json.dumps(client_config))\n",
        "    ws = MLClient.from_config(credential=DefaultAzureCredential(), path=config_path)\n",
        "print(ws)"
      ]
    },
    {
      "cell_type": "markdown",
      "metadata": {
        "nteract": {
          "transient": {
            "deleting": false
          }
        }
      },
      "source": [
        "# Lets create a compute resource through code"
      ]
    },
    {
      "cell_type": "code",
      "execution_count": 14,
      "metadata": {
        "gather": {
          "logged": 1672651456368
        },
        "jupyter": {
          "outputs_hidden": false,
          "source_hidden": false
        },
        "nteract": {
          "transient": {
            "deleting": false
          }
        }
      },
      "outputs": [
        {
          "name": "stdout",
          "output_type": "stream",
          "text": [
            "computeinstance: LittleVMBoiTheSecond :STANDARD_DS11_V2\n",
            "amlcompute: ThreeTimesMyVMBoi :STANDARD_DS3_V2\n",
            "amlcompute: CantClustThis :STANDARD_D2_V2\n",
            "amlcompute: TwoMachinedCluster :STANDARD_DS12_V2\n",
            "amlcompute: demo-cluster :STANDARD_DS11_V2\n",
            "amlcompute: your-compute-cluster :STANDARD_DS11_V2\n"
          ]
        }
      ],
      "source": [
        "for compute in ws.compute.list():\n",
        "    if compute.provisioning_state != \"Failed\":\n",
        "        print(f\"{compute.type}: {compute.name} :{compute.size}\")"
      ]
    },
    {
      "cell_type": "code",
      "execution_count": 2,
      "metadata": {
        "gather": {
          "logged": 1672651418477
        },
        "jupyter": {
          "outputs_hidden": false,
          "source_hidden": false
        },
        "nteract": {
          "transient": {
            "deleting": false
          }
        }
      },
      "outputs": [
        {
          "ename": "NameError",
          "evalue": "name 'ws' is not defined",
          "output_type": "error",
          "traceback": [
            "\u001b[1;31m---------------------------------------------------------------------------\u001b[0m",
            "\u001b[1;31mNameError\u001b[0m                                 Traceback (most recent call last)",
            "\u001b[1;32m~\\AppData\\Local\\Temp/ipykernel_20552/1043825425.py\u001b[0m in \u001b[0;36m<module>\u001b[1;34m\u001b[0m\n\u001b[1;32m----> 1\u001b[1;33m \u001b[0mws\u001b[0m\u001b[1;33m.\u001b[0m\u001b[0mcompute\u001b[0m\u001b[1;33m.\u001b[0m\u001b[0mget\u001b[0m\u001b[1;33m(\u001b[0m\u001b[1;34m\"CantClustThis\"\u001b[0m\u001b[1;33m)\u001b[0m\u001b[1;33m\u001b[0m\u001b[1;33m\u001b[0m\u001b[0m\n\u001b[0m",
            "\u001b[1;31mNameError\u001b[0m: name 'ws' is not defined"
          ]
        }
      ],
      "source": [
        "ws.compute.get(\"CantClustThis\")"
      ]
    },
    {
      "cell_type": "code",
      "execution_count": 3,
      "metadata": {
        "gather": {
          "logged": 1672650754656
        },
        "jupyter": {
          "outputs_hidden": true,
          "source_hidden": false
        },
        "nteract": {
          "transient": {
            "deleting": false
          }
        }
      },
      "outputs": [
        {
          "ename": "ModuleNotFoundError",
          "evalue": "No module named 'azure'",
          "output_type": "error",
          "traceback": [
            "\u001b[1;31m---------------------------------------------------------------------------\u001b[0m",
            "\u001b[1;31mModuleNotFoundError\u001b[0m                       Traceback (most recent call last)",
            "\u001b[1;32m~\\AppData\\Local\\Temp/ipykernel_20552/1332657557.py\u001b[0m in \u001b[0;36m<module>\u001b[1;34m\u001b[0m\n\u001b[1;32m----> 1\u001b[1;33m \u001b[1;32mfrom\u001b[0m \u001b[0mazure\u001b[0m\u001b[1;33m.\u001b[0m\u001b[0mai\u001b[0m\u001b[1;33m.\u001b[0m\u001b[0mml\u001b[0m\u001b[1;33m.\u001b[0m\u001b[0mentities\u001b[0m \u001b[1;32mimport\u001b[0m \u001b[0mAmlCompute\u001b[0m\u001b[1;33m,\u001b[0m \u001b[0mComputeInstance\u001b[0m\u001b[1;33m\u001b[0m\u001b[1;33m\u001b[0m\u001b[0m\n\u001b[0m\u001b[0;32m      2\u001b[0m \u001b[1;33m\u001b[0m\u001b[0m\n\u001b[0;32m      3\u001b[0m \u001b[1;31m# specify aml compute name.\u001b[0m\u001b[1;33m\u001b[0m\u001b[1;33m\u001b[0m\u001b[0m\n\u001b[0;32m      4\u001b[0m \u001b[0mcpu_compute_name\u001b[0m \u001b[1;33m=\u001b[0m \u001b[1;34m\"singleComputeMachine\"\u001b[0m\u001b[1;33m\u001b[0m\u001b[1;33m\u001b[0m\u001b[0m\n\u001b[0;32m      5\u001b[0m \u001b[1;33m\u001b[0m\u001b[0m\n",
            "\u001b[1;31mModuleNotFoundError\u001b[0m: No module named 'azure'"
          ]
        }
      ],
      "source": [
        "from azure.ai.ml.entities import AmlCompute, ComputeInstance\n",
        "\n",
        "# specify aml compute name.\n",
        "cpu_compute_name = \"singleComputeMachine\"\n",
        "\n",
        "try:\n",
        "    ws.compute.get(cpu_compute_name)\n",
        "except Exception:\n",
        "    print(\"Creating a new cpu compute target...\")\n",
        "    compute = ComputeInstance(\n",
        "        name=cpu_compute_name, vm_size=\"STANDARD_DS11_V2\"\n",
        "    )\n",
        "    ws.compute.begin_create_or_update(compute)"
      ]
    },
    {
      "cell_type": "markdown",
      "metadata": {
        "nteract": {
          "transient": {
            "deleting": false
          }
        }
      },
      "source": [
        "1.5 Create a workspace for use with Azure Private Link\n",
        "When using private link, your workspace cannot use the regular Azure Container Registry tasks compute for image building. Hence, you must set the image_build_compute property to some other CPU compute cluster name to use for Docker image environment building. You can also specify whether the private link workspace should be accessible over the internet using the public_network_access property. After workspace creation, create a private link endpoint for your workspace. For more details, see [Secure Azure Machine Learning workspace resources using virtual networks (VNets)](https://learn.microsoft.com/en-us/azure/machine-learning/how-to-secure-workspace-vnet?tabs=pe%2Ccli).\n"
      ]
    },
    {
      "cell_type": "markdown",
      "metadata": {
        "nteract": {
          "transient": {
            "deleting": false
          }
        }
      },
      "source": [
        "# What about finding data?"
      ]
    },
    {
      "cell_type": "code",
      "execution_count": 65,
      "metadata": {
        "gather": {
          "logged": 1672650632793
        },
        "jupyter": {
          "outputs_hidden": false,
          "source_hidden": false
        },
        "nteract": {
          "transient": {
            "deleting": false
          }
        }
      },
      "outputs": [
        {
          "name": "stdout",
          "output_type": "stream",
          "text": [
            "v2_registerblob_test\n",
            "snowman_2022_12_13\n",
            "coffee_2022_11_08\n",
            "blobstorage_2022_11_08\n",
            "azureml_globaldatasets\n",
            "blobstorage_2022_11_02\n",
            "dp100_adls_model\n",
            "dp100_adls_bronze\n",
            "workspaceworkingdirectory\n",
            "workspaceartifactstore\n",
            "workspacefilestore\n",
            "workspaceblobstore\n"
          ]
        }
      ],
      "source": [
        "for workspace in ws.datastores.list():\n",
        "    print(workspace.name)"
      ]
    }
  ],
  "metadata": {
    "kernel_info": {
      "name": "python310-sdkv2"
    },
    "kernelspec": {
      "display_name": "base",
      "language": "python",
      "name": "python3"
    },
    "language_info": {
      "codemirror_mode": {
        "name": "ipython",
        "version": 3
      },
      "file_extension": ".py",
      "mimetype": "text/x-python",
      "name": "python",
      "nbconvert_exporter": "python",
      "pygments_lexer": "ipython3",
      "version": "3.9.7"
    },
    "microsoft": {
      "host": {
        "AzureML": {
          "notebookHasBeenCompleted": true
        }
      }
    },
    "nteract": {
      "version": "nteract-front-end@1.0.0"
    },
    "vscode": {
      "interpreter": {
        "hash": "8d0b4faf37e6dcaddb69a6aadd0c97e8226ea274d9db75e42dfead0bdd09a64f"
      }
    }
  },
  "nbformat": 4,
  "nbformat_minor": 2
}
