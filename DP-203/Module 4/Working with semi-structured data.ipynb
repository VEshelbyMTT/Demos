{
  "cells": [
    {
      "cell_type": "markdown",
      "metadata": {
        "nteract": {
          "transient": {
            "deleting": false
          }
        }
      },
      "source": [
        "# Nested JSON to DataFrame\n",
        "\n",
        "This example notebook shows you how to flatten nested JSON, using only `$\"column.*\"` and `explode` methods.\n",
        "\n",
        "Start by passing the sample JSON string to the reader."
      ]
    },
    {
      "cell_type": "code",
      "execution_count": null,
      "metadata": {},
      "outputs": [],
      "source": [
        "val json =\"\"\"\n",
        "{\n",
        "    \"id\": \"0001\",\n",
        "    \"type\": \"cinnamon roll\",\n",
        "    \"name\": \"Pastry\",\n",
        "    \"ppu\": 0.70,\n",
        "    \"batters\":\n",
        "        {\n",
        "            \"batter\":\n",
        "                [\n",
        "                    { \"id\": \"1001\", \"type\": \"Normal\" },\n",
        "                    { \"id\": \"1002\", \"type\": \"Chocolatey\" },\n",
        "                    { \"id\": \"1003\", \"type\": \"Blueberry\" },\n",
        "                    { \"id\": \"1004\", \"type\": \"Raisins\" }\n",
        "                ]\n",
        "        },\n",
        "    \"topping\":\n",
        "        [\n",
        "            { \"id\": \"5001\", \"type\": \"None\" },\n",
        "            { \"id\": \"5002\", \"type\": \"Sugar-Free Cinammon\" },\n",
        "            { \"id\": \"5005\", \"type\": \"Sugar\" },\n",
        "            { \"id\": \"5007\", \"type\": \"Powdered Sugar\" },\n",
        "            { \"id\": \"5006\", \"type\": \"Chocolate with Sprinkles\" },\n",
        "            { \"id\": \"5003\", \"type\": \"Cinammon Sugar\" },\n",
        "            { \"id\": \"5004\", \"type\": \"Maple\" }\n",
        "        ]\n",
        "}\n",
        "\"\"\""
      ]
    },
    {
      "cell_type": "markdown",
      "metadata": {
        "nteract": {
          "transient": {
            "deleting": false
          }
        }
      },
      "source": [
        "Add the JSON string as a collection type and pass it as an input to `spark.createDataset`. This converts it to a DataFrame. The JSON reader infers the schema automatically from the JSON string.\n",
        "\n",
        "This sample code uses a list collection type, which is represented as `json :: Nil`. You can also use other Scala collection types, such as Seq (Scala Sequence)."
      ]
    },
    {
      "cell_type": "code",
      "execution_count": 4,
      "metadata": {
        "jupyter": {
          "outputs_hidden": false,
          "source_hidden": false
        },
        "nteract": {
          "transient": {
            "deleting": false
          }
        }
      },
      "outputs": [],
      "source": [
        "import org.apache.spark.sql.functions._\n",
        "import spark.implicits._\n",
        "val DF= spark.read.json(spark.createDataset(json :: Nil))"
      ]
    },
    {
      "cell_type": "markdown",
      "metadata": {
        "nteract": {
          "transient": {
            "deleting": false
          }
        }
      },
      "source": [
        "Display the DataFrame to view the current state.\n",
        "\n"
      ]
    },
    {
      "cell_type": "code",
      "execution_count": 5,
      "metadata": {
        "collapsed": false,
        "jupyter": {
          "outputs_hidden": false,
          "source_hidden": false
        },
        "nteract": {
          "transient": {
            "deleting": false
          }
        }
      },
      "outputs": [],
      "source": [
        "display(DF)"
      ]
    },
    {
      "cell_type": "markdown",
      "metadata": {
        "nteract": {
          "transient": {
            "deleting": false
          }
        }
      },
      "source": [
        "Use `$\"column.*\"` and `explode` methods to flatten the struct and array types before displaying the flattened DataFrame."
      ]
    },
    {
      "cell_type": "code",
      "execution_count": 6,
      "metadata": {
        "collapsed": false,
        "jupyter": {
          "outputs_hidden": false,
          "source_hidden": false
        },
        "nteract": {
          "transient": {
            "deleting": false
          }
        }
      },
      "outputs": [],
      "source": [
        "display(DF.select($\"id\" as \"main_id\",$\"name\",$\"batters\",$\"ppu\",explode($\"topping\")) // Exploding the topping column using explode as it is an array type\n",
        "        .withColumn(\"topping_id\",$\"col.id\") // Extracting topping_id from col using DOT form\n",
        "        .withColumn(\"topping_type\",$\"col.type\") // Extracting topping_tytpe from col using DOT form\n",
        "        .drop($\"col\")\n",
        "        .select($\"*\",$\"batters.*\") // Flattened the struct type batters tto array type which is batter\n",
        "        .drop($\"batters\")\n",
        "        .select($\"*\",explode($\"batter\"))\n",
        "        .drop($\"batter\")\n",
        "        .withColumn(\"batter_id\",$\"col.id\") // Extracting batter_id from col using DOT form\n",
        "        .withColumn(\"battter_type\",$\"col.type\") // Extracting battter_type from col using DOT form\n",
        "        .drop($\"col\")\n",
        "       )"
      ]
    }
  ],
  "metadata": {
    "description": null,
    "kernelspec": {
      "display_name": "Synapse PySpark",
      "name": "synapse_pyspark"
    },
    "language_info": {
      "name": "scala"
    },
    "save_output": true
  },
  "nbformat": 4,
  "nbformat_minor": 2
}
